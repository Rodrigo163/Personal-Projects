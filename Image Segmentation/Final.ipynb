{
 "cells": [
  {
   "cell_type": "markdown",
   "metadata": {},
   "source": [
    "# Final function"
   ]
  },
  {
   "cell_type": "code",
   "execution_count": 1,
   "metadata": {},
   "outputs": [],
   "source": [
    "import math\n",
    "import numpy as np\n",
    "import matplotlib.pyplot as plt\n",
    "import skimage.data as data\n",
    "import skimage.segmentation as seg\n",
    "import skimage.filters as filters\n",
    "import skimage.draw as draw\n",
    "import skimage.color as color\n",
    "from skimage.morphology import skeletonize as skel \n",
    "from skimage.morphology import disk\n",
    "import imageio as iio\n",
    "import scipy.ndimage as ndi"
   ]
  },
  {
   "cell_type": "code",
   "execution_count": null,
   "metadata": {},
   "outputs": [],
   "source": [
    "# Function to plot images\n",
    "def im_show(list_of_images, nrows=1, ncols=len(list_of_images), cmap='gray'):\n",
    "    fig, ax = plt.subplots(nrows=nrows, ncols=ncols, figsize=(14, 14))\n",
    "    ax.imshow(image, cmap='gray')\n",
    "    ax.axis('off')\n",
    "    return fig, ax"
   ]
  }
 ],
 "metadata": {
  "kernelspec": {
   "display_name": "Python 3",
   "language": "python",
   "name": "python3"
  },
  "language_info": {
   "codemirror_mode": {
    "name": "ipython",
    "version": 3
   },
   "file_extension": ".py",
   "mimetype": "text/x-python",
   "name": "python",
   "nbconvert_exporter": "python",
   "pygments_lexer": "ipython3",
   "version": "3.7.3"
  }
 },
 "nbformat": 4,
 "nbformat_minor": 2
}
