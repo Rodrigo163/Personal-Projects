{
 "cells": [
  {
   "cell_type": "markdown",
   "metadata": {},
   "source": [
    "# Presentation"
   ]
  },
  {
   "cell_type": "code",
   "execution_count": 9,
   "metadata": {},
   "outputs": [],
   "source": [
    "import math\n",
    "import numpy as np\n",
    "import matplotlib.pyplot as plt\n",
    "import skimage.data as data\n",
    "import skimage.segmentation as seg\n",
    "import skimage.filters as filters\n",
    "import skimage.draw as draw\n",
    "import skimage.color as color\n",
    "from skimage.morphology import skeletonize as skel \n",
    "from skimage.morphology import disk\n",
    "from scipy import interpolate\n",
    "from scipy.interpolate import Rbf, InterpolatedUnivariateSpline\n",
    "import imageio as iio\n",
    "import scipy.ndimage as ndi"
   ]
  },
  {
   "cell_type": "markdown",
   "metadata": {},
   "source": [
    "# Loading image and setting formats"
   ]
  },
  {
   "cell_type": "code",
   "execution_count": 11,
   "metadata": {},
   "outputs": [],
   "source": [
    "#Loading image and setting proper format\n",
    "\n",
    "im = iio.imread('2fil.PNG')\n",
    "im = color.rgb2gray(im) \n",
    "\n",
    "multi = iio.imread('multifil.PNG')\n",
    "multi = color.rgb2gray(multi)\n",
    "def im_show(image, nrows=1, ncols=1, cmap='gray'):\n",
    "    fig, ax = plt.subplots(nrows=nrows, ncols=ncols, figsize=(14, 14))\n",
    "    ax.imshow(image, cmap='gray')\n",
    "    ax.axis('off')\n",
    "    return fig, ax\n",
    "\n",
    "dx5 = iio.imread('Dx5-2 20nM 100%labelled wBSA_Thu Apr 11 2019_15.54.14.tif')\n",
    "dx5 = color.rgb2gray(dx5)\n",
    "#im_show(im)\n",
    "#im_show(multi)\n",
    "#im_show(dx5)"
   ]
  },
  {
   "cell_type": "markdown",
   "metadata": {},
   "source": [
    "# Normalizing images "
   ]
  },
  {
   "cell_type": "markdown",
   "metadata": {},
   "source": [
    "https://www.researchgate.net/post/How_do_I_normalize_2_grayscale_images_so_that_they_are_equivalent_to_each_other"
   ]
  },
  {
   "cell_type": "markdown",
   "metadata": {},
   "source": [
    "# Thresholding"
   ]
  },
  {
   "cell_type": "code",
   "execution_count": 12,
   "metadata": {},
   "outputs": [],
   "source": [
    "#Experimenting to get a better final image\n",
    "#idea that the interface could have slidebars to adjust image processing\n",
    "def pre_processing_dark(multi):    \n",
    "    #thresholding, masking, filtering\n",
    "    masked_multi = np.where(multi < np.percentile(multi, 99),0 , multi)\n",
    "    mask_dilate = ndi.binary_dilation(masked_multi, iterations=1)\n",
    "    mask_erosion = ndi.binary_erosion(mask_dilate, iterations=2)\n",
    "    mask_closed = ndi.binary_closing(mask_erosion, iterations=3)\n",
    "    mask_median = filters.median(mask_closed, disk(2.5))\n",
    "    multi_final = mask_median\n",
    "    \n",
    "    return multi_final\n",
    "\n",
    "def pre_processing_bright(multi):    \n",
    "    #thresholding, masking, filtering\n",
    "    masked_multi = np.where(multi < np.percentile(multi, 94),0 , multi)\n",
    "    mask_dilate = ndi.binary_dilation(masked_multi, iterations=3)\n",
    "    mask_erosion = ndi.binary_erosion(mask_dilate, iterations=2)\n",
    "    mask_closed = ndi.binary_closing(mask_erosion, iterations=2)\n",
    "    mask_median = filters.median(mask_closed, disk(1.5))\n",
    "    multi_final = mask_median\n",
    "    \n",
    "    return multi_final\n",
    "\n",
    "multi_final = pre_processing_dark(multi)\n",
    "#im_show(multi_final)"
   ]
  },
  {
   "cell_type": "markdown",
   "metadata": {},
   "source": [
    "# Labels and boxes"
   ]
  },
  {
   "cell_type": "code",
   "execution_count": 13,
   "metadata": {},
   "outputs": [
    {
     "data": {
      "image/png": "[encoded data removed]",
      "text/plain": [
       "<Figure size 432x288 with 1 Axes>"
      ]
     },
     "metadata": {
      "needs_background": "light"
     },
     "output_type": "display_data"
    }
   ],
   "source": [
    "#to see how labels work\n",
    "#https://docs.scipy.org/doc/scipy/reference/generated/scipy.ndimage.label.html\n",
    "labels, nobjects = ndi.label(multi_final)\n",
    "nobjects\n",
    "boxes = ndi.find_objects(labels)\n",
    "plt.imshow(labels)\n",
    "plt.axis('off')\n",
    "plt.show()"
   ]
  },
  {
   "cell_type": "markdown",
   "metadata": {},
   "source": [
    "# Getting rid of small parts"
   ]
  },
  {
   "cell_type": "code",
   "execution_count": 14,
   "metadata": {},
   "outputs": [],
   "source": [
    "objects = [np.array(multi_final[boxes[i]]) for i in range(0,nobjects-1) if (np.array(multi_final[boxes[i]]).shape[0]*np.array(multi_final[boxes[i]]).shape[1] > 600)]\n",
    "#for i in objects:\n",
    "    #im_show(i)"
   ]
  },
  {
   "cell_type": "markdown",
   "metadata": {},
   "source": [
    "# Singlifying each object"
   ]
  },
  {
   "cell_type": "code",
   "execution_count": 15,
   "metadata": {},
   "outputs": [],
   "source": [
    "def singlify(list_of_objects):\n",
    "    for single_object in list_of_objects:\n",
    "        #first part is to get labels and boxes on each single object\n",
    "        labels, nobs = ndi.label(single_object)\n",
    "        boxes = ndi.find_objects(labels)\n",
    "\n",
    "        #if there is only one object then no need to modify the picture\n",
    "        if nobs>1: #if we have two or more objects \n",
    "            #Then we have to compare their size and get the index of the biggest one\n",
    "            obs = [np.array(single_object[boxes[i]]) for i in range(0,nobs)]\n",
    "            obs_sizes = [ob.shape[0]*ob.shape[1] for ob in obs]\n",
    "            n = int(np.where(obs_sizes == np.max(obs_sizes))[0])\n",
    "\n",
    "            #now follows the mask that will filter everything but the biggest\n",
    "    \n",
    "            for i in range(0,nobs):\n",
    "                if i != n:\n",
    "                    single_object[boxes[i]].fill(0)\n",
    "    return list_of_objects \n",
    "singles =  singlify(objects)\n",
    "#for i in singles:\n",
    "    #im_show(i)"
   ]
  },
  {
   "cell_type": "markdown",
   "metadata": {},
   "source": [
    "# Getting backbone\n",
    "Using only one image for test"
   ]
  },
  {
   "cell_type": "code",
   "execution_count": 133,
   "metadata": {},
   "outputs": [],
   "source": [
    "test_object = np.where(singles[5] >0, 1, 0)\n",
    "test_output = skel(test_object)\n",
    "#im_show(skel(test_object))"
   ]
  },
  {
   "cell_type": "markdown",
   "metadata": {},
   "source": [
    "# From output image to output coordinates"
   ]
  },
  {
   "cell_type": "code",
   "execution_count": 138,
   "metadata": {},
   "outputs": [],
   "source": [
    "#the idea is to get first an arrays like [(x1,y1), (x2, y2), ...]\n",
    "locations = np.where(test_output==True)\n",
    "coords = [[locations[0][i], float(locations[1][i])] for i in range(0, len(locations[0]))]\n",
    "#this actually outputs something like (yi, xi) and with y from bigger to smaller\n",
    "# ordering the output\n",
    "ordered = sorted(coords, key=lambda k: [k[1], k[0]])\n",
    "ordered = [np.flip(x) for x in ordered]\n",
    "coords = ordered"
   ]
  },
  {
   "cell_type": "markdown",
   "metadata": {},
   "source": [
    "# Fitting"
   ]
  },
  {
   "cell_type": "markdown",
   "metadata": {},
   "source": [
    "## Polyfit"
   ]
  },
  {
   "cell_type": "code",
   "execution_count": 139,
   "metadata": {},
   "outputs": [
    {
     "data": {
      "text/plain": [
       "[<matplotlib.lines.Line2D at 0x1f497ff4ba8>,\n",
       " <matplotlib.lines.Line2D at 0x1f497ff4cc0>]"
      ]
     },
     "execution_count": 139,
     "metadata": {},
     "output_type": "execute_result"
    },
    {
     "data": {
      "image/png": "[encoded data removed]",
      "text/plain": [
       "<Figure size 432x288 with 1 Axes>"
      ]
     },
     "metadata": {
      "needs_background": "light"
     },
     "output_type": "display_data"
    }
   ],
   "source": [
    "#trying polynomial fit up to 10th degree\n",
    "x = [coords[i][0] for i in range(0, len(coords))]\n",
    "y = [coords[i][1] for i in range(0, len(coords))]\n",
    "\n",
    "#poly coeffs\n",
    "z = np.polyfit(x,y,10)\n",
    "#poly function\n",
    "p = np.poly1d(z)\n",
    "plt.plot(x,y,'ro', x, p(x), 'b', markersize=1)"
   ]
  },
  {
   "cell_type": "markdown",
   "metadata": {},
   "source": [
    "## Splines interpolation"
   ]
  },
  {
   "cell_type": "code",
   "execution_count": 140,
   "metadata": {},
   "outputs": [
    {
     "data": {
      "image/png": "[encoded data removed]",
      "text/plain": [
       "<Figure size 432x288 with 1 Axes>"
      ]
     },
     "metadata": {
      "needs_background": "light"
     },
     "output_type": "display_data"
    }
   ],
   "source": [
    "#to make it easier to handle we will divide our data into smaller chunks\n",
    "def chunkIt(seq, num):\n",
    "    avg = len(seq) / float(num)\n",
    "    out = []\n",
    "    last = 0.0\n",
    "\n",
    "    while last < len(seq):\n",
    "        out.append(seq[int(last):int(last + avg)])\n",
    "        last += avg\n",
    "\n",
    "    return out\n",
    "\n",
    "n_chunks = 5\n",
    "x_chunks = chunkIt(x, n_chunks)\n",
    "y_chunks = chunkIt(y, n_chunks)\n",
    "yfinal = []\n",
    "#cubic-spline for first chunk\n",
    "plt.figure()\n",
    "for i in range(0,n_chunks):\n",
    "    tck = interpolate.splrep(x_chunks[i], y_chunks[i], s=13)\n",
    "    ynew = interpolate.splev(x_chunks[i], tck, der=0)\n",
    "    plt.plot(x_chunks[i], y_chunks[i],'b', x_chunks[i], ynew, 'r')\n",
    "    yfinal.extend(ynew)\n",
    "plt.legend(['True', 'Cubic Spline'])\n",
    "plt.title('Cubic-spline interpolation')\n",
    "plt.show()\n",
    "\n",
    "#updating output coords\n",
    "for i in range(0, len(coords)):\n",
    "    coords[i].astype(float)\n",
    "    coords[i][1] = yfinal[i]"
   ]
  },
  {
   "cell_type": "markdown",
   "metadata": {},
   "source": [
    "# Matching JFilament's output"
   ]
  },
  {
   "cell_type": "code",
   "execution_count": 155,
   "metadata": {},
   "outputs": [],
   "source": [
    "#now to match JFils format\n",
    "f = open(\"snake.txt\", \"w+\")\n",
    "f.write(\"#\\r\")\n",
    "f.write(\"0\\r\")\n",
    "for i in range(0, len(coords)):\n",
    "    f.write(\"1\\t\"+ str(i) + \"\\t\" + \"%5.2f \\t\" % (coords[i][0]) + \"%5.3f \\t\" % float((coords[i][1])) + \"0\\r\")\n",
    "f.close()"
   ]
  },
  {
   "cell_type": "code",
   "execution_count": null,
   "metadata": {},
   "outputs": [],
   "source": []
  }
 ],
 "metadata": {
  "kernelspec": {
   "display_name": "Python 3",
   "language": "python",
   "name": "python3"
  },
  "language_info": {
   "codemirror_mode": {
    "name": "ipython",
    "version": 3
   },
   "file_extension": ".py",
   "mimetype": "text/x-python",
   "name": "python",
   "nbconvert_exporter": "python",
   "pygments_lexer": "ipython3",
   "version": "3.7.3"
  }
 },
 "nbformat": 4,
 "nbformat_minor": 2
}
