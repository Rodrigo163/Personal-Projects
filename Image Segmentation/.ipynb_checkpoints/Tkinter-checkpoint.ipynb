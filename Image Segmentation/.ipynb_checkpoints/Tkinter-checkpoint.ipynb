{
 "cells": [
  {
   "cell_type": "markdown",
   "metadata": {},
   "source": [
    "# Introduction and how to organize layout\n",
    "Doing a basic window to later put the widgets in"
   ]
  },
  {
   "cell_type": "code",
   "execution_count": null,
   "metadata": {},
   "outputs": [],
   "source": [
    "from tkinter import *\n",
    "window = Tk() #root = blanc window\n",
    "window.title(\"first GUI test\")\n",
    "label = Label(window, text=\"Basics\") #adding some text to the window. text = label\n",
    "label.pack() #lazy way to place/display objects\n",
    "window.mainloop() #windows stay put in the screen. This puts root in a loop so root stays there"
   ]
  },
  {
   "cell_type": "markdown",
   "metadata": {},
   "source": [
    "Organizing layout"
   ]
  },
  {
   "cell_type": "code",
   "execution_count": null,
   "metadata": {},
   "outputs": [],
   "source": [
    "from tkinter import *\n",
    "root = Tk() #root = blanc window\n",
    "# we need frames in which to add stuff, invisible containers\n",
    "topFrame = Frame(root)\n",
    "topFrame.pack() #by default this one is on top of whatever we put in the bottom\n",
    "bottomFrame = Frame(root)\n",
    "bottomFrame.pack(side=BOTTOM) #parameter to say where to put it / pack it\n",
    "\n",
    "button1 = Button(topFrame, text = \"Button1/press me\", fg= \"red\") #where to put button, what to show there, optional colour\n",
    "button2 = Button(topFrame, text = \"Button2/press me\", fg= \"blue\")\n",
    "button3 = Button(topFrame, text = \"Button3/press me\", fg= \"green\")\n",
    "button4 = Button(bottomFrame, text = \"Button4/press me\", fg= \"purple\")\n",
    "\n",
    "button1.pack(side=LEFT)\n",
    "button2.pack(side=LEFT)\n",
    "button3.pack(side=LEFT)\n",
    "button4.pack(side=BOTTOM)\n",
    "\n",
    "root.mainloop() #windows stay put in the screen. This puts root in a loop so root stays there"
   ]
  },
  {
   "cell_type": "markdown",
   "metadata": {},
   "source": [
    "Using grid to organize stuf in matrices"
   ]
  },
  {
   "cell_type": "code",
   "execution_count": null,
   "metadata": {},
   "outputs": [],
   "source": [
    "window = Tk()\n",
    "window.title(\"GUI with Grid\")\n",
    "\n",
    "#now we create 2 text labels and input labels\n",
    "Label(window, text = \"Username\").grid(row=0)\n",
    "Entry(window).grid(row=0, column=1) #Entry = input field\n",
    "\n",
    "Label(window, text = \"Password\").grid(row=1)\n",
    "Entry(window).grid(row=1, column=1) \n",
    "\n",
    "#creating a check button\n",
    "Checkbutton(window, text=\"keep me logged in\").grid(columnspan=2) #to take the width of 2 columns\n",
    "\n",
    "window.mainloop()"
   ]
  },
  {
   "cell_type": "markdown",
   "metadata": {},
   "source": [
    "Using binding functions (calling functions whenever an even occurs)\n",
    "\n",
    "In this example we have a button that when clicked calles the function say_hi. Function say_hi creates a new label with the text Hi"
   ]
  },
  {
   "cell_type": "code",
   "execution_count": null,
   "metadata": {},
   "outputs": [],
   "source": [
    "window = Tk()\n",
    "window.title(\"GUI with function\")\n",
    "\n",
    "#Creating the function\n",
    "def say_hi():\n",
    "    Label(window, text=\"Hi\").pack()\n",
    "\n",
    "#Creatin the button that will call the function\n",
    "Button(window, text = \"Click me!\", command = say_hi).pack()\n",
    "\n",
    "window.mainloop()"
   ]
  },
  {
   "cell_type": "markdown",
   "metadata": {},
   "source": [
    "Binding functions with events like mousemove, mouseover, clicking, scrolling...\n",
    "\n",
    "\n",
    "\n",
    "    <Button-1> for left click\n",
    "\n",
    "    <Button-2> for middle click\n",
    "\n",
    "    <Button-3> for right click\n"
   ]
  },
  {
   "cell_type": "code",
   "execution_count": null,
   "metadata": {},
   "outputs": [],
   "source": [
    "from tkinter import *\n",
    "\n",
    "window = Tk()\n",
    "window.title(\"GUI\")\n",
    "\n",
    "# creating a function with an arguments 'event'\n",
    "def say_hi(event): # you can rename 'event' to anything you want\n",
    "    Label(window, text = \"Hi\").pack()\n",
    "\n",
    "bt = Button(window, text = \"Click Me!\")\n",
    "bt.bind(\"<Button-1>\", say_hi) # 'bind' takes 2 parameters 1st is 'event' 2nd is 'function'\n",
    "bt.pack()\n",
    "\n",
    "window.mainloop()"
   ]
  },
  {
   "cell_type": "markdown",
   "metadata": {},
   "source": [
    "Calling a particular function based on the event that occurs"
   ]
  },
  {
   "cell_type": "code",
   "execution_count": null,
   "metadata": {},
   "outputs": [],
   "source": [
    "from tkinter import *\n",
    "\n",
    "window = Tk()\n",
    "window.title(\"GUI\")\n",
    "\n",
    "#creating 3 different functions for 3 events\n",
    "def left_click(event):\n",
    "    Label(window, text = \"Left Click!\").pack()\n",
    "\n",
    "def middle_click(event):\n",
    "    Label(window, text = \"Middle Click!\").pack()\n",
    "\n",
    "def right_click(event):\n",
    "    Label(window, text = \"Right Click!\").pack()\n",
    "\n",
    "window.bind(\"<Button-1>\", left_click)\n",
    "window.bind(\"<Button-2>\", middle_click)\n",
    "window.bind(\"<Button-3>\", right_click)\n",
    "\n",
    "window.mainloop()"
   ]
  },
  {
   "cell_type": "markdown",
   "metadata": {},
   "source": [
    "Drop Down Menus"
   ]
  },
  {
   "cell_type": "code",
   "execution_count": null,
   "metadata": {},
   "outputs": [],
   "source": [
    "import tkinter\n",
    "\n",
    "window = tkinter.Tk()\n",
    "window.title(\"GUI\")\n",
    "\n",
    "def function():\n",
    "    pass\n",
    "\n",
    "# creating a root menu to insert all the sub menus\n",
    "root_menu = tkinter.Menu(window)\n",
    "window.config(menu = root_menu)\n",
    "\n",
    "# creating sub menus in the root menu\n",
    "file_menu = tkinter.Menu(root_menu) # it intializes a new su menu in the root menu\n",
    "root_menu.add_cascade(label = \"File\", menu = file_menu) # it creates the name of the sub menu\n",
    "file_menu.add_command(label = \"New file.....\", command = function) # it adds a option to the sub menu 'command' parameter is used to do some action\n",
    "file_menu.add_command(label = \"Open files\", command = function)\n",
    "file_menu.add_separator() # it adds a line after the 'Open files' option\n",
    "file_menu.add_command(label = \"Exit\", command = window.quit)\n",
    "\n",
    "# creting another sub menu\n",
    "edit_menu = tkinter.Menu(root_menu)\n",
    "root_menu.add_cascade(label = \"Edit\", menu = edit_menu)\n",
    "edit_menu.add_command(label = \"Undo\", command = function)\n",
    "edit_menu.add_command(label = \"Redo\", command = function)\n",
    "\n",
    "window.mainloop()"
   ]
  },
  {
   "cell_type": "markdown",
   "metadata": {},
   "source": [
    "Alert Box"
   ]
  },
  {
   "cell_type": "code",
   "execution_count": null,
   "metadata": {},
   "outputs": [],
   "source": [
    "import tkinter\n",
    "import tkinter.messagebox\n",
    "\n",
    "window = tkinter.Tk()\n",
    "window.title(\"GUI\")\n",
    "\n",
    "# creating a simple alert box\n",
    "tkinter.messagebox.showinfo(\"Alert Message\", \"This is just a alert message!\")\n",
    "# creating a question to get the response from the user [Yes or No Question]\n",
    "response = tkinter.messagebox.askquestion(\"Simple Question\", \"Do you love Python?\")\n",
    "# If user clicks 'Yes' then it returns 1 else it returns 0\n",
    "if response == 1:\n",
    "    tkinter.Label(window, text = \"You love Python!\").pack()\n",
    "else:\n",
    "    tkinter.Label(window, text = \"You don't love Python!\").pack()\n",
    "\n",
    "window.mainloop()"
   ]
  },
  {
   "cell_type": "markdown",
   "metadata": {},
   "source": [
    "Images and Icons"
   ]
  },
  {
   "cell_type": "code",
   "execution_count": null,
   "metadata": {},
   "outputs": [],
   "source": [
    "from tkinter import *\n",
    "import skimage.color as color\n",
    "import imageio as iio\n",
    "\n",
    "window = Tk()\n",
    "window.title(\"GUI\")\n",
    "\n",
    "# taking image from the directory and storing the source in a variable\n",
    "im = iio.imread('C:\\Users\\rodrigo_lopez\\github\\Personal-Projects\\Image Segmentation\\2fil.PNG')\n",
    "im = color.rgb2gray(im) \n",
    "\n",
    "#icon = tkinter.PhotoImage(file = \"2fil.PNG\")\n",
    "# displaying the picture using a 'Label' by passing the 'picture' variriable to 'image' parameter\n",
    "label = Label(window, image = im)\n",
    "label.pack()\n",
    "\n",
    "window.mainloop()"
   ]
  }
 ],
 "metadata": {
  "kernelspec": {
   "display_name": "Python 3",
   "language": "python",
   "name": "python3"
  },
  "language_info": {
   "codemirror_mode": {
    "name": "ipython",
    "version": 3
   },
   "file_extension": ".py",
   "mimetype": "text/x-python",
   "name": "python",
   "nbconvert_exporter": "python",
   "pygments_lexer": "ipython3",
   "version": "3.7.3"
  }
 },
 "nbformat": 4,
 "nbformat_minor": 2
}
