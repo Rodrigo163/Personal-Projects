{
 "cells": [
  {
   "cell_type": "code",
   "execution_count": 1,
   "metadata": {},
   "outputs": [
    {
     "name": "stderr",
     "output_type": "stream",
     "text": [
      "C:\\Anaconda3\\lib\\site-packages\\matplotlib\\backends\\tkagg.py:10: MatplotlibDeprecationWarning: \n",
      "The matplotlib.backends.tkagg module is deprecated.\n",
      "  \"3.0\", \"The matplotlib.backends.tkagg module is deprecated.\")\n"
     ]
    }
   ],
   "source": [
    "from tkinter import *\n",
    "import tkinter as tk\n",
    "from tkinter import filedialog as fd\n",
    "import math\n",
    "import numpy as np\n",
    "import matplotlib\n",
    "import matplotlib.pyplot as plt\n",
    "from matplotlib.figure import Figure\n",
    "import matplotlib.backends.tkagg as tkagg\n",
    "from matplotlib.backends.backend_agg import FigureCanvasAgg\n",
    "from PIL import ImageTk, Image\n",
    "import skimage.data as data\n",
    "import skimage.segmentation as seg\n",
    "import skimage.filters as filters\n",
    "import skimage.draw as draw\n",
    "import skimage.color as color\n",
    "from skimage.morphology import skeletonize as skel \n",
    "from skimage.morphology import disk\n",
    "import imageio as iio\n",
    "import scipy.ndimage as ndi"
   ]
  },
  {
   "cell_type": "code",
   "execution_count": 2,
   "metadata": {},
   "outputs": [],
   "source": [
    "def im_show(image, nrows=1, ncols=1, cmap='gray'):\n",
    "    fig, ax = plt.subplots(nrows=nrows, ncols=ncols, figsize=(14, 14))\n",
    "    ax.imshow(image, cmap='gray')\n",
    "    ax.axis('off')\n",
    "    return fig, ax\n",
    "\n",
    "def pre_processing_dark(multi):    \n",
    "    #thresholding, masking, filtering\n",
    "    masked_multi = np.where(multi < np.percentile(multi, 99),0 , multi)\n",
    "    mask_dilate = ndi.binary_dilation(masked_multi, iterations=1)\n",
    "    mask_erosion = ndi.binary_erosion(mask_dilate, iterations=2)\n",
    "    mask_closed = ndi.binary_closing(mask_erosion, iterations=3)\n",
    "    mask_median = filters.median(mask_closed, disk(2.5))\n",
    "    multi_final = mask_median\n",
    "    \n",
    "    return multi_final\n",
    "\n",
    "def singlify(list_of_objects, n):\n",
    "    for object in list_of_objects:\n",
    "        #first part is to get labels and boxes \n",
    "        labels, nobs = ndi.label(object)\n",
    "        boxes = ndi.find_objects(labels)\n",
    "\n",
    "        #if there is only one object then no need to modify the picture\n",
    "        if len(boxes)>1:\n",
    "            #Then we have to compare their size and get the index of the biggest one\n",
    "            obs = [np.array(object[boxes[i]]) for i in range(0,nobs-1)]\n",
    "            obs_sizes = [ob.shape[0]*ob.shape[1] for ob in obs]\n",
    "            n = int(np.where(obs_sizes == np.max(obs_sizes))[0])\n",
    "\n",
    "            #now follows the mask that will filter everything but the biggest\n",
    "\n",
    "            for i in range(0,n-1):\n",
    "                if i != n:\n",
    "                    object[boxes[i]].fill(0)\n",
    "    return list_of_objects \n",
    "\n",
    "def backbone(objects):\n",
    "    binaries = [np.where(ob > 0, 1, 0) for ob in objects]\n",
    "    backbones = [skel(binary) for binary in binaries]\n",
    "    binary_backbones = [np.where(ob ==True, 1, 0) for ob in backbones]\n",
    "    return binary_backbones\n",
    "\n",
    "def greyoverlap(singles, backbones):\n",
    "    greyoverlap = [np.where(backbones[i] == 1, -80, 0) + singles[i] for i in range(0, len(singles))]\n",
    "    return greyoverlap"
   ]
  },
  {
   "cell_type": "code",
   "execution_count": 3,
   "metadata": {},
   "outputs": [],
   "source": [
    "im = iio.imread('multifil.PNG')\n",
    "im = color.rgb2gray(im) \n",
    "#im_show(im)"
   ]
  },
  {
   "cell_type": "code",
   "execution_count": 4,
   "metadata": {},
   "outputs": [],
   "source": [
    "im = pre_processing_dark(im)"
   ]
  },
  {
   "cell_type": "code",
   "execution_count": 5,
   "metadata": {},
   "outputs": [],
   "source": [
    "labels, nobjects = ndi.label(im)"
   ]
  },
  {
   "cell_type": "code",
   "execution_count": 6,
   "metadata": {},
   "outputs": [],
   "source": [
    "boxes = ndi.find_objects(labels)"
   ]
  },
  {
   "cell_type": "code",
   "execution_count": 7,
   "metadata": {},
   "outputs": [],
   "source": [
    "objects = [np.array(im[boxes[i]]) for i in range(0, nobjects-1) if (np.array(im[boxes[i]]).shape[0]*np.array(im[boxes[i]]).shape[1] > 600)]"
   ]
  },
  {
   "cell_type": "code",
   "execution_count": 8,
   "metadata": {},
   "outputs": [],
   "source": [
    "singles = singlify(objects, nobjects)"
   ]
  },
  {
   "cell_type": "code",
   "execution_count": 9,
   "metadata": {},
   "outputs": [],
   "source": [
    "backbones = backbone(singles)"
   ]
  },
  {
   "cell_type": "code",
   "execution_count": null,
   "metadata": {},
   "outputs": [],
   "source": []
  }
 ],
 "metadata": {
  "kernelspec": {
   "display_name": "Python 3",
   "language": "python",
   "name": "python3"
  },
  "language_info": {
   "codemirror_mode": {
    "name": "ipython",
    "version": 3
   },
   "file_extension": ".py",
   "mimetype": "text/x-python",
   "name": "python",
   "nbconvert_exporter": "python",
   "pygments_lexer": "ipython3",
   "version": "3.7.3"
  }
 },
 "nbformat": 4,
 "nbformat_minor": 2
}
